{
 "cells": [
  {
   "cell_type": "code",
   "execution_count": 1,
   "metadata": {},
   "outputs": [],
   "source": [
    "import pandas as pd"
   ]
  },
  {
   "cell_type": "code",
   "execution_count": 5,
   "metadata": {},
   "outputs": [
    {
     "name": "stdout",
     "output_type": "stream",
     "text": [
      "Here are some good practices for duck egg incubation: \n",
      "\n",
      "1. Choose healthy eggs that are clean, uncracked, and free from abnormalities. \n",
      "2. Set up the incubator correctly by following the manufacturer's instructions for setting the temperature and humidity levels.\n",
      "3. Maintain a temperature between 99.5?F to 100?F (37.5?C to 37.8?C).\n",
      "4. Maintain a humidity level of around 55% to 65% for the first 25 days and increase to 80% for the last 3 days of incubation.\n",
      "5. Turn the eggs three to five times a day until day 25 and then stop turning them.\n",
      "6. Use candling on day 7 to check for fertility and embryo development.\n",
      "7. Do not help the ducklings out of their shells during hatching. \n",
      "\n",
      "By following these practices, you can increase the likelihood of a successful hatch.\n"
     ]
    }
   ],
   "source": [
    "def get_good_practice(egg_type):\n",
    "\n",
    "    df = pd.read_csv('Eggs.csv')\n",
    "    mask = df['Egg_Type'] == egg_type.capitalize()\n",
    "    good_practice = df.loc[mask, 'Good_Practice'].values\n",
    "    if len(good_practice) == 0:\n",
    "        return None\n",
    "    else:\n",
    "        return good_practice[0]\n",
    "\n",
    "# #Use the function above\n",
    "# good_practice = get_good_practice('Duck')\n",
    "# print(good_practice)\n",
    "\n",
    "def duck():\n",
    "    good_practice = get_good_practice('Duck')\n",
    "    return good_practice\n",
    "\n"
   ]
  },
  {
   "cell_type": "code",
   "execution_count": null,
   "metadata": {},
   "outputs": [],
   "source": []
  }
 ],
 "metadata": {
  "kernelspec": {
   "display_name": "base",
   "language": "python",
   "name": "python3"
  },
  "language_info": {
   "codemirror_mode": {
    "name": "ipython",
    "version": 3
   },
   "file_extension": ".py",
   "mimetype": "text/x-python",
   "name": "python",
   "nbconvert_exporter": "python",
   "pygments_lexer": "ipython3",
   "version": "3.10.9"
  },
  "orig_nbformat": 4
 },
 "nbformat": 4,
 "nbformat_minor": 2
}
