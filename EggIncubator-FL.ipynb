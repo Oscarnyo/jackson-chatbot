{
 "cells": [
  {
   "cell_type": "code",
   "execution_count": null,
   "metadata": {
    "scrolled": true
   },
   "outputs": [],
   "source": [
    "pip install -U scikit-fuzzy\n"
   ]
  },
  {
   "cell_type": "code",
   "execution_count": null,
   "metadata": {},
   "outputs": [],
   "source": [
    "import numpy as np\n",
    "import skfuzzy as fuzz\n",
    "import matplotlib.pyplot as plt\n",
    "import sensor\n",
    "from skfuzzy import control as ctrl\n"
   ]
  },
  {
   "cell_type": "code",
   "execution_count": null,
   "metadata": {},
   "outputs": [],
   "source": [
    "# establishing fuzzy logic for getting a good range of data\n",
    "humidity = ctrl.Antecedent(np.arange(0, 100, 1), 'humidity')\n",
    "temp = ctrl.Antecedent(np.arange(0, 51, 1), 'temp')\n",
    "turning = ctrl.Consequent(np.arange(0, 11, 1), 'turning')\n",
    "\n",
    "humidity['too dry'] = fuzz.trapmf(humidity.universe, [0, 0, 41, 51])\n",
    "humidity['well'] = fuzz.trapmf(humidity.universe, [51, 63, 75, 87])\n",
    "humidity['too wet'] = fuzz.trapmf(humidity.universe, [87, 95, 100, 100])\n",
    "\n",
    "temp['too cold'] = fuzz.trapmf(temp.universe, [0, 0, 27, 34])\n",
    "temp['moderate'] = fuzz.trimf(temp.universe, [34, 38, 41])\n",
    "temp['too hot'] = fuzz.trapmf(temp.universe, [41, 44, 50, 50])\n",
    "\n",
    "turning['few'] = fuzz.trimf(turning.universe, [0, 0, 5])\n",
    "turning['moderate'] = fuzz.trimf(turning.universe, [0, 5, 10])\n",
    "turning['many'] = fuzz.trimf(turning.universe, [5, 10, 10])\n"
   ]
  },
  {
   "cell_type": "code",
   "execution_count": null,
   "metadata": {},
   "outputs": [],
   "source": [
    "temp.view()"
   ]
  },
  {
   "cell_type": "code",
   "execution_count": null,
   "metadata": {},
   "outputs": [],
   "source": [
    "humidity.view()"
   ]
  },
  {
   "cell_type": "code",
   "execution_count": null,
   "metadata": {},
   "outputs": [],
   "source": [
    "turning.view()"
   ]
  },
  {
   "cell_type": "code",
   "execution_count": null,
   "metadata": {},
   "outputs": [],
   "source": [
    "rule1 = ctrl.Rule(temp['too cold'] & humidity['too dry'], turning['many'])\n",
    "rule2 = ctrl.Rule(temp['too cold'] & humidity['well'], turning['moderate'])\n",
    "rule3 = ctrl.Rule(temp['too cold'] & humidity['too wet'], turning['few'])\n",
    "rule4 = ctrl.Rule(temp['moderate'] & humidity['too dry'], turning['many'])\n",
    "rule5 = ctrl.Rule(temp['moderate'] & humidity['well'], turning['moderate'])\n",
    "rule6 = ctrl.Rule(temp['moderate'] & humidity['too wet'], turning['few'])\n",
    "rule7 = ctrl.Rule(temp['too hot'] & humidity['too dry'], turning['few'])\n",
    "rule8 = ctrl.Rule(temp['too hot'] & humidity['well'], turning['few'])\n",
    "rule9 = ctrl.Rule(temp['too hot'] & humidity['too wet'], turning['few'])"
   ]
  },
  {
   "cell_type": "code",
   "execution_count": null,
   "metadata": {},
   "outputs": [],
   "source": [
    "turning_ctrl = ctrl.ControlSystem([rule1, rule2, rule3, rule4, rule5, rule6, rule7, rule8, rule9])"
   ]
  },
  {
   "cell_type": "code",
   "execution_count": null,
   "metadata": {},
   "outputs": [],
   "source": [
    "turning_simulation = ctrl.ControlSystemSimulation(turning_ctrl)"
   ]
  },
  {
   "cell_type": "code",
   "execution_count": null,
   "metadata": {},
   "outputs": [],
   "source": [
    "\n",
    "def getTurning():\n",
    "    \n",
    "    turning_simulation.input['temp'] = float(sensor.gettemp())\n",
    "    turning_simulation.input['humidity'] = float(sensor.gethumid())\n",
    "\n",
    "\n",
    "    turning_simulation.compute()\n",
    "    print(\"The number of times of the eggs are turning are\", int(turning_simulation.output['turning']))"
   ]
  },
  {
   "cell_type": "code",
   "execution_count": null,
   "metadata": {},
   "outputs": [],
   "source": [
    "getTurning()"
   ]
  },
  {
   "cell_type": "code",
   "execution_count": null,
   "metadata": {},
   "outputs": [],
   "source": []
  },
  {
   "cell_type": "code",
   "execution_count": null,
   "metadata": {},
   "outputs": [],
   "source": []
  }
 ],
 "metadata": {
  "kernelspec": {
   "display_name": "Python 3 (ipykernel)",
   "language": "python",
   "name": "python3"
  },
  "language_info": {
   "codemirror_mode": {
    "name": "ipython",
    "version": 3
   },
   "file_extension": ".py",
   "mimetype": "text/x-python",
   "name": "python",
   "nbconvert_exporter": "python",
   "pygments_lexer": "ipython3",
   "version": "3.10.9"
  }
 },
 "nbformat": 4,
 "nbformat_minor": 4
}
