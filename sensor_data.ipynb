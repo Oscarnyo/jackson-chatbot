{
 "cells": [
  {
   "cell_type": "code",
   "execution_count": 1,
   "metadata": {},
   "outputs": [],
   "source": [
    "import requests\n",
    "import json\n",
    "import datetime\n",
    "import re\n",
    "import pandas as pd\n",
    "from datetime import datetime"
   ]
  },
  {
   "cell_type": "code",
   "execution_count": 8,
   "metadata": {},
   "outputs": [
    {
     "ename": "KeyError",
     "evalue": "'temperature'",
     "output_type": "error",
     "traceback": [
      "\u001b[1;31m---------------------------------------------------------------------------\u001b[0m",
      "\u001b[1;31mKeyError\u001b[0m                                  Traceback (most recent call last)",
      "Cell \u001b[1;32mIn[8], line 23\u001b[0m\n\u001b[0;32m     18\u001b[0m \u001b[39m#df_json = pd.read_json(sensorsData['DataAnalysis'])\u001b[39;00m\n\u001b[0;32m     19\u001b[0m \u001b[39m#sensorsData.to_excel('DATAFILE.xlsx')\u001b[39;00m\n\u001b[0;32m     20\u001b[0m \n\u001b[0;32m     21\u001b[0m \u001b[39m#Change sunflower-tree-system.json to excel\u001b[39;00m\n\u001b[0;32m     22\u001b[0m dj_f\u001b[39m=\u001b[39m[]\n\u001b[1;32m---> 23\u001b[0m \u001b[39mfor\u001b[39;00m dataAnals \u001b[39min\u001b[39;00m sensorsData[\u001b[39m'\u001b[39;49m\u001b[39mtemperature\u001b[39;49m\u001b[39m'\u001b[39;49m]:\n\u001b[0;32m     24\u001b[0m     dj_f\u001b[39m.\u001b[39mappend(sensorsData[\u001b[39m'\u001b[39m\u001b[39mtemperature\u001b[39m\u001b[39m'\u001b[39m][dataAnals])\n\u001b[0;32m     27\u001b[0m \u001b[39m#dj_f.append(sensorsData['Sensor'])\u001b[39;00m\n",
      "\u001b[1;31mKeyError\u001b[0m: 'temperature'"
     ]
    }
   ],
   "source": [
    "url = \"https://eggincubator-825e1-default-rtdb.firebaseio.com/.json\"\n",
    "\n",
    "\n",
    "sess = requests.session()\n",
    "headers = {\n",
    "\"User-Agent\": \"Mozilla/5.0 (Windows NT 10.0; Win64; x64) AppleWebKit/537.36 (KHTML, like Gecko) Chrome/107.0.0.0 Safari/537.36\",\n",
    "\"Referer\" : \"https://eggincubator-825e1-default-rtdb.firebaseio.com/.json\"\n",
    "}\n",
    "\n",
    "req = sess.get(url,headers = headers)   #200\n",
    "#print(req.status_code) \n",
    "\n",
    "\n",
    "\n",
    "################### Get Data to Excel {DataAnalysis} #######################\n",
    "sensorsData = json.loads(req.text)\n",
    "\n",
    "#df_json = pd.read_json(sensorsData['DataAnalysis'])\n",
    "#sensorsData.to_excel('DATAFILE.xlsx')\n",
    "\n",
    "#Change sunflower-tree-system.json to excel\n",
    "dj_f=[]\n",
    "for dataAnals in sensorsData['temperature']:\n",
    "    dj_f.append(sensorsData['temperature'][dataAnals])\n",
    "    \n",
    "\n",
    "#dj_f.append(sensorsData['Sensor'])\n",
    "dj_f = pd.DataFrame.from_dict(dj_f)\n",
    "dj_f.to_csv('sensor_data.csv')\n",
    "    \n",
    "    \n",
    "    \n",
    "################### Get Data from {Sensor} #######################\n",
    "def soilMoisture():\n",
    "    return sensorsData['Sensor']['Soil Moisture (%)']\n",
    "def batteryP():\n",
    "    return sensorsData['Sensor']['Battery Percentage (%)']\n",
    "def tempC():\n",
    "    return sensorsData['Sensor']['Temperature (°C)']\n",
    "def tempF():\n",
    "    return sensorsData['Sensor']['Temperature (°F)']\n",
    "def voltage():\n",
    "    return sensorsData['Sensor']['Voltage (V)']\n",
    "def voltageSensor():\n",
    "    return sensorsData['Sensor']['Voltage Sensor'] \n",
    "def weather():\n",
    "    return sensorsData['Sensor']['Weather']\n",
    "\n",
    "def time():   #time: 05:20:33\n",
    "    datetime_obj = datetime.strptime(sensorsData['Sensor']['Time'], \"%A, %B %d %Y %H:%M:%S\")\n",
    "    return datetime_obj.time()\n",
    "\n",
    "def date():   #date: 2022-11-12\n",
    "    datetime_obj = datetime.strptime(sensorsData['Sensor']['Time'], \"%A, %B %d %Y %H:%M:%S\")\n",
    "    return datetime_obj.date()\n",
    "\n",
    "def lightIntensity():\n",
    "    return sensorsData['Sensor']['Light Intensity (%)']\n",
    "\n",
    "def humidity():  #79%\n",
    "    return sensorsData['Sensor']['Humidity (%)']\n",
    "\n"
   ]
  }
 ],
 "metadata": {
  "kernelspec": {
   "display_name": "base",
   "language": "python",
   "name": "python3"
  },
  "language_info": {
   "codemirror_mode": {
    "name": "ipython",
    "version": 3
   },
   "file_extension": ".py",
   "mimetype": "text/x-python",
   "name": "python",
   "nbconvert_exporter": "python",
   "pygments_lexer": "ipython3",
   "version": "3.10.9"
  },
  "orig_nbformat": 4
 },
 "nbformat": 4,
 "nbformat_minor": 2
}
