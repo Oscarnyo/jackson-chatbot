{
 "cells": [
  {
   "cell_type": "code",
   "execution_count": null,
   "metadata": {},
   "outputs": [],
   "source": [
    "pip install discord"
   ]
  },
  {
   "cell_type": "code",
   "execution_count": 1,
   "metadata": {},
   "outputs": [
    {
     "name": "stderr",
     "output_type": "stream",
     "text": [
      "[2023-04-05 16:58:23] [INFO    ] discord.client: logging in using static token\n",
      "[2023-04-05 16:58:24] [INFO    ] discord.gateway: Shard ID None has connected to Gateway (Session ID: 4de9358d30fb33aa1d3f603d4f16c31a).\n"
     ]
    },
    {
     "name": "stdout",
     "output_type": "stream",
     "text": [
      "Jackson chatbot#9823 is now running!\n",
      "Kyron#1484 said: \"current temp on the incubator\" (jackson-bot)\n",
      "Kyron#1484 said: \"current humid on the incubator\" (jackson-bot)\n"
     ]
    }
   ],
   "source": [
    "import discord\n",
    "import responses\n",
    "import nest_asyncio\n",
    "\n",
    "nest_asyncio.apply()\n",
    "\n",
    "async def send_message(message, user_message, is_private):\n",
    "    try:\n",
    "        response = responses.get_response(user_message)\n",
    "        await message.author.send(response) if is_private else await message.channel.send(response)\n",
    "\n",
    "    except Exception as e:\n",
    "        print(e)\n",
    "\n",
    "def run_discord_bot():\n",
    "    TOKEN = 'MTA5MjMxNjUxOTg3NjI3NjI5NA.GebDwb.SUPNov917dpN2V9s-iFyDYk757qNo3SnuSe_8A'\n",
    "    intents = discord.Intents.default()\n",
    "    intents.message_content = True\n",
    "    client = discord.Client(intents=intents)\n",
    "\n",
    "    @client.event\n",
    "    async def on_ready():\n",
    "        print(f'{client.user} is now running!')\n",
    "\n",
    "    @client.event\n",
    "    async def on_message(message):\n",
    "        if message.author == client.user:\n",
    "            return\n",
    "\n",
    "        username = str(message.author)\n",
    "        user_message = str(message.content)\n",
    "        channel = str(message.channel)\n",
    "\n",
    "        print(f'{username} said: \"{user_message}\" ({channel})')\n",
    "\n",
    "        if user_message[0] == '?':\n",
    "            user_message = user_message[0:]\n",
    "            await send_message(message, user_message, is_private=True)\n",
    "        else:\n",
    "            await send_message(message, user_message, is_private=False)\n",
    "\n",
    "    client.run(TOKEN)\n",
    "\n",
    "run_discord_bot()"
   ]
  }
 ],
 "metadata": {
  "kernelspec": {
   "display_name": "base",
   "language": "python",
   "name": "python3"
  },
  "language_info": {
   "codemirror_mode": {
    "name": "ipython",
    "version": 3
   },
   "file_extension": ".py",
   "mimetype": "text/x-python",
   "name": "python",
   "nbconvert_exporter": "python",
   "pygments_lexer": "ipython3",
   "version": "3.10.9"
  },
  "orig_nbformat": 4
 },
 "nbformat": 4,
 "nbformat_minor": 2
}
