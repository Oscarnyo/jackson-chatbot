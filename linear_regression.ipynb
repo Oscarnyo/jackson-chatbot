{
 "cells": [
  {
   "cell_type": "code",
   "execution_count": 16,
   "metadata": {},
   "outputs": [],
   "source": [
    "import numpy as np\n",
    "\n",
    "import matplotlib.pyplot as plt\n",
    "from skfuzzy import control as ctrl\n",
    "import pandas as pd\n",
    "from pandas.io.json import json_normalize\n",
    "\n",
    "\n",
    "import seaborn as sns\n",
    "\n",
    "\n",
    "\n"
   ]
  },
  {
   "cell_type": "code",
   "execution_count": 17,
   "metadata": {},
   "outputs": [
    {
     "data": {
      "text/html": [
       "<div>\n",
       "<style scoped>\n",
       "    .dataframe tbody tr th:only-of-type {\n",
       "        vertical-align: middle;\n",
       "    }\n",
       "\n",
       "    .dataframe tbody tr th {\n",
       "        vertical-align: top;\n",
       "    }\n",
       "\n",
       "    .dataframe thead th {\n",
       "        text-align: right;\n",
       "    }\n",
       "</style>\n",
       "<table border=\"1\" class=\"dataframe\">\n",
       "  <thead>\n",
       "    <tr style=\"text-align: right;\">\n",
       "      <th></th>\n",
       "      <th>Bulb_Data</th>\n",
       "      <th>Fan_Data</th>\n",
       "      <th>Humidity_Data</th>\n",
       "      <th>Temperature_Data</th>\n",
       "      <th>Valve_Data</th>\n",
       "      <th>Message_Temp</th>\n",
       "      <th>Message_Humid</th>\n",
       "    </tr>\n",
       "  </thead>\n",
       "  <tbody>\n",
       "    <tr>\n",
       "      <th>0</th>\n",
       "      <td>1</td>\n",
       "      <td>1</td>\n",
       "      <td>83.8</td>\n",
       "      <td>28.5</td>\n",
       "      <td>0</td>\n",
       "      <td>Too cold</td>\n",
       "      <td>Well</td>\n",
       "    </tr>\n",
       "    <tr>\n",
       "      <th>1</th>\n",
       "      <td>1</td>\n",
       "      <td>1</td>\n",
       "      <td>86.0</td>\n",
       "      <td>29.9</td>\n",
       "      <td>0</td>\n",
       "      <td>Too cold</td>\n",
       "      <td>Well</td>\n",
       "    </tr>\n",
       "    <tr>\n",
       "      <th>2</th>\n",
       "      <td>1</td>\n",
       "      <td>1</td>\n",
       "      <td>82.1</td>\n",
       "      <td>30.9</td>\n",
       "      <td>0</td>\n",
       "      <td>Too cold</td>\n",
       "      <td>Well</td>\n",
       "    </tr>\n",
       "    <tr>\n",
       "      <th>3</th>\n",
       "      <td>1</td>\n",
       "      <td>1</td>\n",
       "      <td>77.6</td>\n",
       "      <td>31.5</td>\n",
       "      <td>0</td>\n",
       "      <td>Too cold</td>\n",
       "      <td>Well</td>\n",
       "    </tr>\n",
       "    <tr>\n",
       "      <th>4</th>\n",
       "      <td>1</td>\n",
       "      <td>1</td>\n",
       "      <td>73.9</td>\n",
       "      <td>31.9</td>\n",
       "      <td>0</td>\n",
       "      <td>Too cold</td>\n",
       "      <td>Well</td>\n",
       "    </tr>\n",
       "  </tbody>\n",
       "</table>\n",
       "</div>"
      ],
      "text/plain": [
       "   Bulb_Data  Fan_Data  Humidity_Data  Temperature_Data  Valve_Data  \\\n",
       "0          1         1           83.8              28.5           0   \n",
       "1          1         1           86.0              29.9           0   \n",
       "2          1         1           82.1              30.9           0   \n",
       "3          1         1           77.6              31.5           0   \n",
       "4          1         1           73.9              31.9           0   \n",
       "\n",
       "  Message_Temp Message_Humid  \n",
       "0     Too cold          Well  \n",
       "1     Too cold          Well  \n",
       "2     Too cold          Well  \n",
       "3     Too cold          Well  \n",
       "4     Too cold          Well  "
      ]
     },
     "execution_count": 17,
     "metadata": {},
     "output_type": "execute_result"
    }
   ],
   "source": [
    "HatchData = pd.read_csv('HatchData.csv')\n",
    "HatchData.head()"
   ]
  },
  {
   "cell_type": "code",
   "execution_count": 18,
   "metadata": {},
   "outputs": [
    {
     "name": "stderr",
     "output_type": "stream",
     "text": [
      "C:\\Users\\oscar\\AppData\\Local\\Temp\\ipykernel_18272\\3024150324.py:1: FutureWarning: The default value of numeric_only in DataFrame.corr is deprecated. In a future version, it will default to False. Select only valid columns or specify the value of numeric_only to silence this warning.\n",
      "  HatchData_relation = HatchData.corr()\n"
     ]
    },
    {
     "data": {
      "text/html": [
       "<div>\n",
       "<style scoped>\n",
       "    .dataframe tbody tr th:only-of-type {\n",
       "        vertical-align: middle;\n",
       "    }\n",
       "\n",
       "    .dataframe tbody tr th {\n",
       "        vertical-align: top;\n",
       "    }\n",
       "\n",
       "    .dataframe thead th {\n",
       "        text-align: right;\n",
       "    }\n",
       "</style>\n",
       "<table border=\"1\" class=\"dataframe\">\n",
       "  <thead>\n",
       "    <tr style=\"text-align: right;\">\n",
       "      <th></th>\n",
       "      <th>Bulb_Data</th>\n",
       "      <th>Fan_Data</th>\n",
       "      <th>Humidity_Data</th>\n",
       "      <th>Temperature_Data</th>\n",
       "      <th>Valve_Data</th>\n",
       "    </tr>\n",
       "  </thead>\n",
       "  <tbody>\n",
       "    <tr>\n",
       "      <th>Bulb_Data</th>\n",
       "      <td>1.000000</td>\n",
       "      <td>0.441171</td>\n",
       "      <td>-0.210490</td>\n",
       "      <td>0.180401</td>\n",
       "      <td>0.462962</td>\n",
       "    </tr>\n",
       "    <tr>\n",
       "      <th>Fan_Data</th>\n",
       "      <td>0.441171</td>\n",
       "      <td>1.000000</td>\n",
       "      <td>-0.212271</td>\n",
       "      <td>0.189981</td>\n",
       "      <td>0.401590</td>\n",
       "    </tr>\n",
       "    <tr>\n",
       "      <th>Humidity_Data</th>\n",
       "      <td>-0.210490</td>\n",
       "      <td>-0.212271</td>\n",
       "      <td>1.000000</td>\n",
       "      <td>-0.934201</td>\n",
       "      <td>-0.360672</td>\n",
       "    </tr>\n",
       "    <tr>\n",
       "      <th>Temperature_Data</th>\n",
       "      <td>0.180401</td>\n",
       "      <td>0.189981</td>\n",
       "      <td>-0.934201</td>\n",
       "      <td>1.000000</td>\n",
       "      <td>0.319248</td>\n",
       "    </tr>\n",
       "    <tr>\n",
       "      <th>Valve_Data</th>\n",
       "      <td>0.462962</td>\n",
       "      <td>0.401590</td>\n",
       "      <td>-0.360672</td>\n",
       "      <td>0.319248</td>\n",
       "      <td>1.000000</td>\n",
       "    </tr>\n",
       "  </tbody>\n",
       "</table>\n",
       "</div>"
      ],
      "text/plain": [
       "                  Bulb_Data  Fan_Data  Humidity_Data  Temperature_Data  \\\n",
       "Bulb_Data          1.000000  0.441171      -0.210490          0.180401   \n",
       "Fan_Data           0.441171  1.000000      -0.212271          0.189981   \n",
       "Humidity_Data     -0.210490 -0.212271       1.000000         -0.934201   \n",
       "Temperature_Data   0.180401  0.189981      -0.934201          1.000000   \n",
       "Valve_Data         0.462962  0.401590      -0.360672          0.319248   \n",
       "\n",
       "                  Valve_Data  \n",
       "Bulb_Data           0.462962  \n",
       "Fan_Data            0.401590  \n",
       "Humidity_Data      -0.360672  \n",
       "Temperature_Data    0.319248  \n",
       "Valve_Data          1.000000  "
      ]
     },
     "execution_count": 18,
     "metadata": {},
     "output_type": "execute_result"
    }
   ],
   "source": [
    "HatchData_relation = HatchData.corr()\n",
    "HatchData_relation"
   ]
  },
  {
   "cell_type": "code",
   "execution_count": 19,
   "metadata": {},
   "outputs": [
    {
     "data": {
      "image/png": "[encoded data removed]",
      "text/plain": [
       "<Figure size 640x480 with 1 Axes>"
      ]
     },
     "metadata": {},
     "output_type": "display_data"
    }
   ],
   "source": [
    "#Draw a regplot to display the correlation between 'tips' and 'bill_amount' and store that regplot object into a variable named: 'tip_plot'.\n",
    "ax = sns.regplot(x='Temperature_Data', y='Humidity_Data',data=HatchData)"
   ]
  },
  {
   "cell_type": "code",
   "execution_count": 20,
   "metadata": {},
   "outputs": [],
   "source": [
    "#Define input output data\n",
    "# Model 1, y = a + b1x1 + b2x2+ ....\n",
    "y = HatchData['Humidity_Data'].values\n",
    "x = HatchData[['Valve_Data','Temperature_Data']].values\n",
    "\n",
    "\n",
    "#Split the model into train and test data and assign as 'X_train,X_test,y_train and y_test'. The test size should be '0.3' and random state should be '0'\n",
    "# Split test and train\n",
    "from sklearn.model_selection import train_test_split\n",
    "x_train, x_test, y_train, y_test = train_test_split(x, y, test_size=0.2, \n",
    "                                                  random_state=100)"
   ]
  },
  {
   "cell_type": "code",
   "execution_count": 21,
   "metadata": {},
   "outputs": [
    {
     "data": {
      "text/html": [
       "<style>#sk-container-id-2 {color: black;background-color: white;}#sk-container-id-2 pre{padding: 0;}#sk-container-id-2 div.sk-toggleable {background-color: white;}#sk-container-id-2 label.sk-toggleable__label {cursor: pointer;display: block;width: 100%;margin-bottom: 0;padding: 0.3em;box-sizing: border-box;text-align: center;}#sk-container-id-2 label.sk-toggleable__label-arrow:before {content: \"▸\";float: left;margin-right: 0.25em;color: #696969;}#sk-container-id-2 label.sk-toggleable__label-arrow:hover:before {color: black;}#sk-container-id-2 div.sk-estimator:hover label.sk-toggleable__label-arrow:before {color: black;}#sk-container-id-2 div.sk-toggleable__content {max-height: 0;max-width: 0;overflow: hidden;text-align: left;background-color: #f0f8ff;}#sk-container-id-2 div.sk-toggleable__content pre {margin: 0.2em;color: black;border-radius: 0.25em;background-color: #f0f8ff;}#sk-container-id-2 input.sk-toggleable__control:checked~div.sk-toggleable__content {max-height: 200px;max-width: 100%;overflow: auto;}#sk-container-id-2 input.sk-toggleable__control:checked~label.sk-toggleable__label-arrow:before {content: \"▾\";}#sk-container-id-2 div.sk-estimator input.sk-toggleable__control:checked~label.sk-toggleable__label {background-color: #d4ebff;}#sk-container-id-2 div.sk-label input.sk-toggleable__control:checked~label.sk-toggleable__label {background-color: #d4ebff;}#sk-container-id-2 input.sk-hidden--visually {border: 0;clip: rect(1px 1px 1px 1px);clip: rect(1px, 1px, 1px, 1px);height: 1px;margin: -1px;overflow: hidden;padding: 0;position: absolute;width: 1px;}#sk-container-id-2 div.sk-estimator {font-family: monospace;background-color: #f0f8ff;border: 1px dotted black;border-radius: 0.25em;box-sizing: border-box;margin-bottom: 0.5em;}#sk-container-id-2 div.sk-estimator:hover {background-color: #d4ebff;}#sk-container-id-2 div.sk-parallel-item::after {content: \"\";width: 100%;border-bottom: 1px solid gray;flex-grow: 1;}#sk-container-id-2 div.sk-label:hover label.sk-toggleable__label {background-color: #d4ebff;}#sk-container-id-2 div.sk-serial::before {content: \"\";position: absolute;border-left: 1px solid gray;box-sizing: border-box;top: 0;bottom: 0;left: 50%;z-index: 0;}#sk-container-id-2 div.sk-serial {display: flex;flex-direction: column;align-items: center;background-color: white;padding-right: 0.2em;padding-left: 0.2em;position: relative;}#sk-container-id-2 div.sk-item {position: relative;z-index: 1;}#sk-container-id-2 div.sk-parallel {display: flex;align-items: stretch;justify-content: center;background-color: white;position: relative;}#sk-container-id-2 div.sk-item::before, #sk-container-id-2 div.sk-parallel-item::before {content: \"\";position: absolute;border-left: 1px solid gray;box-sizing: border-box;top: 0;bottom: 0;left: 50%;z-index: -1;}#sk-container-id-2 div.sk-parallel-item {display: flex;flex-direction: column;z-index: 1;position: relative;background-color: white;}#sk-container-id-2 div.sk-parallel-item:first-child::after {align-self: flex-end;width: 50%;}#sk-container-id-2 div.sk-parallel-item:last-child::after {align-self: flex-start;width: 50%;}#sk-container-id-2 div.sk-parallel-item:only-child::after {width: 0;}#sk-container-id-2 div.sk-dashed-wrapped {border: 1px dashed gray;margin: 0 0.4em 0.5em 0.4em;box-sizing: border-box;padding-bottom: 0.4em;background-color: white;}#sk-container-id-2 div.sk-label label {font-family: monospace;font-weight: bold;display: inline-block;line-height: 1.2em;}#sk-container-id-2 div.sk-label-container {text-align: center;}#sk-container-id-2 div.sk-container {/* jupyter's `normalize.less` sets `[hidden] { display: none; }` but bootstrap.min.css set `[hidden] { display: none !important; }` so we also need the `!important` here to be able to override the default hidden behavior on the sphinx rendered scikit-learn.org. See: https://github.com/scikit-learn/scikit-learn/issues/21755 */display: inline-block !important;position: relative;}#sk-container-id-2 div.sk-text-repr-fallback {display: none;}</style><div id=\"sk-container-id-2\" class=\"sk-top-container\"><div class=\"sk-text-repr-fallback\"><pre>LinearRegression()</pre><b>In a Jupyter environment, please rerun this cell to show the HTML representation or trust the notebook. <br />On GitHub, the HTML representation is unable to render, please try loading this page with nbviewer.org.</b></div><div class=\"sk-container\" hidden><div class=\"sk-item\"><div class=\"sk-estimator sk-toggleable\"><input class=\"sk-toggleable__control sk-hidden--visually\" id=\"sk-estimator-id-2\" type=\"checkbox\" checked><label for=\"sk-estimator-id-2\" class=\"sk-toggleable__label sk-toggleable__label-arrow\">LinearRegression</label><div class=\"sk-toggleable__content\"><pre>LinearRegression()</pre></div></div></div></div></div>"
      ],
      "text/plain": [
       "LinearRegression()"
      ]
     },
     "execution_count": 21,
     "metadata": {},
     "output_type": "execute_result"
    }
   ],
   "source": [
    "#Build an appropriate predictive model and name it as 'model'.\n",
    "# Regression model \n",
    "from sklearn.linear_model import LinearRegression\n",
    "model = LinearRegression()\n",
    "model.fit(x_train, y_train)"
   ]
  },
  {
   "cell_type": "code",
   "execution_count": 22,
   "metadata": {},
   "outputs": [
    {
     "data": {
      "text/plain": [
       "(array([-2.48372485, -3.31774266]), 177.16957078907907)"
      ]
     },
     "execution_count": 22,
     "metadata": {},
     "output_type": "execute_result"
    }
   ],
   "source": [
    "\n",
    "model.coef_, model.intercept_"
   ]
  },
  {
   "cell_type": "code",
   "execution_count": 23,
   "metadata": {},
   "outputs": [
    {
     "data": {
      "text/html": [
       "<div>\n",
       "<style scoped>\n",
       "    .dataframe tbody tr th:only-of-type {\n",
       "        vertical-align: middle;\n",
       "    }\n",
       "\n",
       "    .dataframe tbody tr th {\n",
       "        vertical-align: top;\n",
       "    }\n",
       "\n",
       "    .dataframe thead th {\n",
       "        text-align: right;\n",
       "    }\n",
       "</style>\n",
       "<table border=\"1\" class=\"dataframe\">\n",
       "  <thead>\n",
       "    <tr style=\"text-align: right;\">\n",
       "      <th></th>\n",
       "      <th>Actual Y</th>\n",
       "      <th>Predicted Y</th>\n",
       "    </tr>\n",
       "  </thead>\n",
       "  <tbody>\n",
       "    <tr>\n",
       "      <th>0</th>\n",
       "      <td>45.8</td>\n",
       "      <td>41.976139</td>\n",
       "    </tr>\n",
       "    <tr>\n",
       "      <th>1</th>\n",
       "      <td>51.2</td>\n",
       "      <td>41.976139</td>\n",
       "    </tr>\n",
       "    <tr>\n",
       "      <th>2</th>\n",
       "      <td>45.6</td>\n",
       "      <td>47.616302</td>\n",
       "    </tr>\n",
       "    <tr>\n",
       "      <th>3</th>\n",
       "      <td>47.7</td>\n",
       "      <td>47.616302</td>\n",
       "    </tr>\n",
       "    <tr>\n",
       "      <th>4</th>\n",
       "      <td>56.1</td>\n",
       "      <td>71.504049</td>\n",
       "    </tr>\n",
       "    <tr>\n",
       "      <th>...</th>\n",
       "      <td>...</td>\n",
       "      <td>...</td>\n",
       "    </tr>\n",
       "    <tr>\n",
       "      <th>717</th>\n",
       "      <td>80.5</td>\n",
       "      <td>75.153566</td>\n",
       "    </tr>\n",
       "    <tr>\n",
       "      <th>718</th>\n",
       "      <td>79.8</td>\n",
       "      <td>82.613905</td>\n",
       "    </tr>\n",
       "    <tr>\n",
       "      <th>719</th>\n",
       "      <td>45.8</td>\n",
       "      <td>49.606948</td>\n",
       "    </tr>\n",
       "    <tr>\n",
       "      <th>720</th>\n",
       "      <td>47.6</td>\n",
       "      <td>41.644365</td>\n",
       "    </tr>\n",
       "    <tr>\n",
       "      <th>721</th>\n",
       "      <td>57.5</td>\n",
       "      <td>71.835823</td>\n",
       "    </tr>\n",
       "  </tbody>\n",
       "</table>\n",
       "<p>722 rows × 2 columns</p>\n",
       "</div>"
      ],
      "text/plain": [
       "     Actual Y  Predicted Y\n",
       "0        45.8    41.976139\n",
       "1        51.2    41.976139\n",
       "2        45.6    47.616302\n",
       "3        47.7    47.616302\n",
       "4        56.1    71.504049\n",
       "..        ...          ...\n",
       "717      80.5    75.153566\n",
       "718      79.8    82.613905\n",
       "719      45.8    49.606948\n",
       "720      47.6    41.644365\n",
       "721      57.5    71.835823\n",
       "\n",
       "[722 rows x 2 columns]"
      ]
     },
     "execution_count": 23,
     "metadata": {},
     "output_type": "execute_result"
    }
   ],
   "source": [
    "#Make predictions on test dataset and assign as 'y_pred'.\n",
    "\n",
    "y_pred = model.predict(x_test)\n",
    "pd.DataFrame({'Actual Y': y_test, \n",
    "              'Predicted Y': y_pred})\n"
   ]
  },
  {
   "cell_type": "code",
   "execution_count": 24,
   "metadata": {},
   "outputs": [
    {
     "name": "stdout",
     "output_type": "stream",
     "text": [
      "MSE: 35.16319323088767\n",
      "R Squared: 0.8835793286198237\n"
     ]
    }
   ],
   "source": [
    "#Identify the accuracy, coefficients, intercept value and Mean Squared Error of the model and store those values into the variables: 'score','coef','intercept' and 'mse' respectively.\n",
    "# Model Evaluation\n",
    "# MSE \n",
    "# R Square Value\n",
    "from sklearn.metrics import mean_squared_error, r2_score\n",
    "mse = mean_squared_error(y_test, y_pred)\n",
    "r2_value = r2_score(y_test, y_pred)\n",
    "print(\"MSE:\", mse)\n",
    "print(\"R Squared:\", r2_value)"
   ]
  },
  {
   "cell_type": "code",
   "execution_count": 25,
   "metadata": {},
   "outputs": [
    {
     "name": "stdout",
     "output_type": "stream",
     "text": [
      "[55.74018939]\n"
     ]
    }
   ],
   "source": [
    "# Importing required libraries\n",
    "import requests\n",
    "\n",
    "# Getting real-time temperature and humidity data from API\n",
    "response = requests.get(\"https://eggincubator-825e1-default-rtdb.firebaseio.com/.json\")\n",
    "data = response.json()\n",
    "\n",
    "# Extracting real-time temperature and humidity values\n",
    "temp = data['Temperature']\n",
    "vav = data['ValveStatus']\n",
    "day = data['Day']\n",
    "humid = data['Humidity']\n",
    "linear_predict = print(model.predict([[vav,temp]])) \n",
    " \n"
   ]
  },
  {
   "cell_type": "code",
   "execution_count": 26,
   "metadata": {},
   "outputs": [],
   "source": [
    "def checkSuccess():\n",
    "    linear_predict = model.predict([[vav,temp]])\n",
    "    if  linear_predict > humid:\n",
    "        return f'''The Humidity is likely to be increase'''\n",
    "    else:\n",
    "        return f'''The Humidity is likely to be decrease'''\n",
    "        \n",
    "# print (dataset['Valve_Data'])"
   ]
  },
  {
   "cell_type": "code",
   "execution_count": 27,
   "metadata": {},
   "outputs": [
    {
     "data": {
      "text/plain": [
       "'The Humidity is likely to be increase'"
      ]
     },
     "execution_count": 27,
     "metadata": {},
     "output_type": "execute_result"
    }
   ],
   "source": [
    "checkSuccess()"
   ]
  }
 ],
 "metadata": {
  "kernelspec": {
   "display_name": "base",
   "language": "python",
   "name": "python3"
  },
  "language_info": {
   "codemirror_mode": {
    "name": "ipython",
    "version": 3
   },
   "file_extension": ".py",
   "mimetype": "text/x-python",
   "name": "python",
   "nbconvert_exporter": "python",
   "pygments_lexer": "ipython3",
   "version": "3.10.9"
  },
  "orig_nbformat": 4
 },
 "nbformat": 4,
 "nbformat_minor": 2
}
